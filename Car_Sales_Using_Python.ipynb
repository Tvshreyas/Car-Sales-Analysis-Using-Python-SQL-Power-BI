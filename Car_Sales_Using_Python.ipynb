{
 "cells": [
  {
   "cell_type": "code",
   "execution_count": 4,
   "id": "06465d36",
   "metadata": {},
   "outputs": [],
   "source": [
    "import pandas as pd\n",
    "import numpy as np"
   ]
  },
  {
   "cell_type": "code",
   "execution_count": 6,
   "id": "52ab36ea",
   "metadata": {},
   "outputs": [],
   "source": [
    "df = pd.read_csv(\"D:\\\\archive (7)\\\\Car Sales.xlsx - car_data.csv\")\n",
    "\n"
   ]
  },
  {
   "cell_type": "code",
   "execution_count": 9,
   "id": "dac8c8e3",
   "metadata": {},
   "outputs": [
    {
     "data": {
      "text/html": [
       "<div>\n",
       "<style scoped>\n",
       "    .dataframe tbody tr th:only-of-type {\n",
       "        vertical-align: middle;\n",
       "    }\n",
       "\n",
       "    .dataframe tbody tr th {\n",
       "        vertical-align: top;\n",
       "    }\n",
       "\n",
       "    .dataframe thead th {\n",
       "        text-align: right;\n",
       "    }\n",
       "</style>\n",
       "<table border=\"1\" class=\"dataframe\">\n",
       "  <thead>\n",
       "    <tr style=\"text-align: right;\">\n",
       "      <th></th>\n",
       "      <th>Car_id</th>\n",
       "      <th>Date</th>\n",
       "      <th>Customer Name</th>\n",
       "      <th>Gender</th>\n",
       "      <th>Annual Income</th>\n",
       "      <th>Dealer_Name</th>\n",
       "      <th>Company</th>\n",
       "      <th>Model</th>\n",
       "      <th>Engine</th>\n",
       "      <th>Transmission</th>\n",
       "      <th>Color</th>\n",
       "      <th>Price ($)</th>\n",
       "      <th>Dealer_No</th>\n",
       "      <th>Body Style</th>\n",
       "      <th>Phone</th>\n",
       "      <th>Dealer_Region</th>\n",
       "    </tr>\n",
       "  </thead>\n",
       "  <tbody>\n",
       "    <tr>\n",
       "      <th>0</th>\n",
       "      <td>C_CND_000001</td>\n",
       "      <td>1/2/2022</td>\n",
       "      <td>Geraldine</td>\n",
       "      <td>Male</td>\n",
       "      <td>13500</td>\n",
       "      <td>Buddy Storbeck's Diesel Service Inc</td>\n",
       "      <td>Ford</td>\n",
       "      <td>Expedition</td>\n",
       "      <td>DoubleÂ Overhead Camshaft</td>\n",
       "      <td>Auto</td>\n",
       "      <td>Black</td>\n",
       "      <td>26000</td>\n",
       "      <td>06457-3834</td>\n",
       "      <td>SUV</td>\n",
       "      <td>8264678</td>\n",
       "      <td>Middletown</td>\n",
       "    </tr>\n",
       "    <tr>\n",
       "      <th>1</th>\n",
       "      <td>C_CND_000002</td>\n",
       "      <td>1/2/2022</td>\n",
       "      <td>Gia</td>\n",
       "      <td>Male</td>\n",
       "      <td>1480000</td>\n",
       "      <td>C &amp; M Motors Inc</td>\n",
       "      <td>Dodge</td>\n",
       "      <td>Durango</td>\n",
       "      <td>DoubleÂ Overhead Camshaft</td>\n",
       "      <td>Auto</td>\n",
       "      <td>Black</td>\n",
       "      <td>19000</td>\n",
       "      <td>60504-7114</td>\n",
       "      <td>SUV</td>\n",
       "      <td>6848189</td>\n",
       "      <td>Aurora</td>\n",
       "    </tr>\n",
       "    <tr>\n",
       "      <th>2</th>\n",
       "      <td>C_CND_000003</td>\n",
       "      <td>1/2/2022</td>\n",
       "      <td>Gianna</td>\n",
       "      <td>Male</td>\n",
       "      <td>1035000</td>\n",
       "      <td>Capitol KIA</td>\n",
       "      <td>Cadillac</td>\n",
       "      <td>Eldorado</td>\n",
       "      <td>Overhead Camshaft</td>\n",
       "      <td>Manual</td>\n",
       "      <td>Red</td>\n",
       "      <td>31500</td>\n",
       "      <td>38701-8047</td>\n",
       "      <td>Passenger</td>\n",
       "      <td>7298798</td>\n",
       "      <td>Greenville</td>\n",
       "    </tr>\n",
       "    <tr>\n",
       "      <th>3</th>\n",
       "      <td>C_CND_000004</td>\n",
       "      <td>1/2/2022</td>\n",
       "      <td>Giselle</td>\n",
       "      <td>Male</td>\n",
       "      <td>13500</td>\n",
       "      <td>Chrysler of Tri-Cities</td>\n",
       "      <td>Toyota</td>\n",
       "      <td>Celica</td>\n",
       "      <td>Overhead Camshaft</td>\n",
       "      <td>Manual</td>\n",
       "      <td>Pale White</td>\n",
       "      <td>14000</td>\n",
       "      <td>99301-3882</td>\n",
       "      <td>SUV</td>\n",
       "      <td>6257557</td>\n",
       "      <td>Pasco</td>\n",
       "    </tr>\n",
       "    <tr>\n",
       "      <th>4</th>\n",
       "      <td>C_CND_000005</td>\n",
       "      <td>1/2/2022</td>\n",
       "      <td>Grace</td>\n",
       "      <td>Male</td>\n",
       "      <td>1465000</td>\n",
       "      <td>Chrysler Plymouth</td>\n",
       "      <td>Acura</td>\n",
       "      <td>TL</td>\n",
       "      <td>DoubleÂ Overhead Camshaft</td>\n",
       "      <td>Auto</td>\n",
       "      <td>Red</td>\n",
       "      <td>24500</td>\n",
       "      <td>53546-9427</td>\n",
       "      <td>Hatchback</td>\n",
       "      <td>7081483</td>\n",
       "      <td>Janesville</td>\n",
       "    </tr>\n",
       "  </tbody>\n",
       "</table>\n",
       "</div>"
      ],
      "text/plain": [
       "         Car_id      Date Customer Name Gender  Annual Income  \\\n",
       "0  C_CND_000001  1/2/2022     Geraldine   Male          13500   \n",
       "1  C_CND_000002  1/2/2022           Gia   Male        1480000   \n",
       "2  C_CND_000003  1/2/2022        Gianna   Male        1035000   \n",
       "3  C_CND_000004  1/2/2022       Giselle   Male          13500   \n",
       "4  C_CND_000005  1/2/2022         Grace   Male        1465000   \n",
       "\n",
       "                           Dealer_Name   Company       Model  \\\n",
       "0  Buddy Storbeck's Diesel Service Inc      Ford  Expedition   \n",
       "1                     C & M Motors Inc     Dodge     Durango   \n",
       "2                          Capitol KIA  Cadillac    Eldorado   \n",
       "3               Chrysler of Tri-Cities    Toyota      Celica   \n",
       "4                    Chrysler Plymouth     Acura          TL   \n",
       "\n",
       "                      Engine Transmission       Color  Price ($)  Dealer_No   \\\n",
       "0  DoubleÂ Overhead Camshaft         Auto       Black      26000  06457-3834   \n",
       "1  DoubleÂ Overhead Camshaft         Auto       Black      19000  60504-7114   \n",
       "2          Overhead Camshaft       Manual         Red      31500  38701-8047   \n",
       "3          Overhead Camshaft       Manual  Pale White      14000  99301-3882   \n",
       "4  DoubleÂ Overhead Camshaft         Auto         Red      24500  53546-9427   \n",
       "\n",
       "  Body Style    Phone Dealer_Region  \n",
       "0        SUV  8264678    Middletown  \n",
       "1        SUV  6848189        Aurora  \n",
       "2  Passenger  7298798    Greenville  \n",
       "3        SUV  6257557         Pasco  \n",
       "4  Hatchback  7081483    Janesville  "
      ]
     },
     "execution_count": 9,
     "metadata": {},
     "output_type": "execute_result"
    }
   ],
   "source": [
    "df.head()"
   ]
  },
  {
   "cell_type": "code",
   "execution_count": 10,
   "id": "e32cf56c",
   "metadata": {},
   "outputs": [
    {
     "data": {
      "text/html": [
       "<div>\n",
       "<style scoped>\n",
       "    .dataframe tbody tr th:only-of-type {\n",
       "        vertical-align: middle;\n",
       "    }\n",
       "\n",
       "    .dataframe tbody tr th {\n",
       "        vertical-align: top;\n",
       "    }\n",
       "\n",
       "    .dataframe thead th {\n",
       "        text-align: right;\n",
       "    }\n",
       "</style>\n",
       "<table border=\"1\" class=\"dataframe\">\n",
       "  <thead>\n",
       "    <tr style=\"text-align: right;\">\n",
       "      <th></th>\n",
       "      <th>Car_id</th>\n",
       "      <th>Date</th>\n",
       "      <th>Customer Name</th>\n",
       "      <th>Gender</th>\n",
       "      <th>Annual Income</th>\n",
       "      <th>Dealer_Name</th>\n",
       "      <th>Company</th>\n",
       "      <th>Model</th>\n",
       "      <th>Engine</th>\n",
       "      <th>Transmission</th>\n",
       "      <th>Color</th>\n",
       "      <th>Price ($)</th>\n",
       "      <th>Dealer_No</th>\n",
       "      <th>Body Style</th>\n",
       "      <th>Phone</th>\n",
       "      <th>Dealer_Region</th>\n",
       "    </tr>\n",
       "  </thead>\n",
       "  <tbody>\n",
       "    <tr>\n",
       "      <th>23901</th>\n",
       "      <td>C_CND_023902</td>\n",
       "      <td>12/31/2023</td>\n",
       "      <td>Martin</td>\n",
       "      <td>Male</td>\n",
       "      <td>13500</td>\n",
       "      <td>C &amp; M Motors Inc</td>\n",
       "      <td>Plymouth</td>\n",
       "      <td>Voyager</td>\n",
       "      <td>Overhead Camshaft</td>\n",
       "      <td>Manual</td>\n",
       "      <td>Red</td>\n",
       "      <td>12000</td>\n",
       "      <td>60504-7114</td>\n",
       "      <td>Passenger</td>\n",
       "      <td>8583598</td>\n",
       "      <td>Pasco</td>\n",
       "    </tr>\n",
       "    <tr>\n",
       "      <th>23902</th>\n",
       "      <td>C_CND_023903</td>\n",
       "      <td>12/31/2023</td>\n",
       "      <td>Jimmy</td>\n",
       "      <td>Female</td>\n",
       "      <td>900000</td>\n",
       "      <td>Ryder Truck Rental and Leasing</td>\n",
       "      <td>Chevrolet</td>\n",
       "      <td>Prizm</td>\n",
       "      <td>DoubleÂ Overhead Camshaft</td>\n",
       "      <td>Auto</td>\n",
       "      <td>Black</td>\n",
       "      <td>16000</td>\n",
       "      <td>06457-3834</td>\n",
       "      <td>Hardtop</td>\n",
       "      <td>7914229</td>\n",
       "      <td>Middletown</td>\n",
       "    </tr>\n",
       "    <tr>\n",
       "      <th>23903</th>\n",
       "      <td>C_CND_023904</td>\n",
       "      <td>12/31/2023</td>\n",
       "      <td>Emma</td>\n",
       "      <td>Male</td>\n",
       "      <td>705000</td>\n",
       "      <td>Chrysler of Tri-Cities</td>\n",
       "      <td>BMW</td>\n",
       "      <td>328i</td>\n",
       "      <td>Overhead Camshaft</td>\n",
       "      <td>Manual</td>\n",
       "      <td>Red</td>\n",
       "      <td>21000</td>\n",
       "      <td>99301-3882</td>\n",
       "      <td>Sedan</td>\n",
       "      <td>7659127</td>\n",
       "      <td>Scottsdale</td>\n",
       "    </tr>\n",
       "    <tr>\n",
       "      <th>23904</th>\n",
       "      <td>C_CND_023905</td>\n",
       "      <td>12/31/2023</td>\n",
       "      <td>Victoire</td>\n",
       "      <td>Male</td>\n",
       "      <td>13500</td>\n",
       "      <td>Chrysler Plymouth</td>\n",
       "      <td>Chevrolet</td>\n",
       "      <td>Metro</td>\n",
       "      <td>DoubleÂ Overhead Camshaft</td>\n",
       "      <td>Auto</td>\n",
       "      <td>Black</td>\n",
       "      <td>31000</td>\n",
       "      <td>53546-9427</td>\n",
       "      <td>Passenger</td>\n",
       "      <td>6030764</td>\n",
       "      <td>Austin</td>\n",
       "    </tr>\n",
       "    <tr>\n",
       "      <th>23905</th>\n",
       "      <td>C_CND_023906</td>\n",
       "      <td>12/31/2023</td>\n",
       "      <td>Donovan</td>\n",
       "      <td>Male</td>\n",
       "      <td>1225000</td>\n",
       "      <td>Pars Auto Sales</td>\n",
       "      <td>Lexus</td>\n",
       "      <td>ES300</td>\n",
       "      <td>DoubleÂ Overhead Camshaft</td>\n",
       "      <td>Auto</td>\n",
       "      <td>Pale White</td>\n",
       "      <td>27500</td>\n",
       "      <td>38701-8047</td>\n",
       "      <td>Hardtop</td>\n",
       "      <td>7020564</td>\n",
       "      <td>Middletown</td>\n",
       "    </tr>\n",
       "  </tbody>\n",
       "</table>\n",
       "</div>"
      ],
      "text/plain": [
       "             Car_id        Date Customer Name  Gender  Annual Income  \\\n",
       "23901  C_CND_023902  12/31/2023        Martin    Male          13500   \n",
       "23902  C_CND_023903  12/31/2023         Jimmy  Female         900000   \n",
       "23903  C_CND_023904  12/31/2023          Emma    Male         705000   \n",
       "23904  C_CND_023905  12/31/2023      Victoire    Male          13500   \n",
       "23905  C_CND_023906  12/31/2023       Donovan    Male        1225000   \n",
       "\n",
       "                          Dealer_Name    Company    Model  \\\n",
       "23901                C & M Motors Inc   Plymouth  Voyager   \n",
       "23902  Ryder Truck Rental and Leasing  Chevrolet    Prizm   \n",
       "23903          Chrysler of Tri-Cities        BMW     328i   \n",
       "23904               Chrysler Plymouth  Chevrolet    Metro   \n",
       "23905                 Pars Auto Sales      Lexus    ES300   \n",
       "\n",
       "                          Engine Transmission       Color  Price ($)  \\\n",
       "23901          Overhead Camshaft       Manual         Red      12000   \n",
       "23902  DoubleÂ Overhead Camshaft         Auto       Black      16000   \n",
       "23903          Overhead Camshaft       Manual         Red      21000   \n",
       "23904  DoubleÂ Overhead Camshaft         Auto       Black      31000   \n",
       "23905  DoubleÂ Overhead Camshaft         Auto  Pale White      27500   \n",
       "\n",
       "       Dealer_No  Body Style    Phone Dealer_Region  \n",
       "23901  60504-7114  Passenger  8583598         Pasco  \n",
       "23902  06457-3834    Hardtop  7914229    Middletown  \n",
       "23903  99301-3882      Sedan  7659127    Scottsdale  \n",
       "23904  53546-9427  Passenger  6030764        Austin  \n",
       "23905  38701-8047    Hardtop  7020564    Middletown  "
      ]
     },
     "execution_count": 10,
     "metadata": {},
     "output_type": "execute_result"
    }
   ],
   "source": [
    "df.tail()"
   ]
  },
  {
   "cell_type": "code",
   "execution_count": 12,
   "id": "63e706ca",
   "metadata": {},
   "outputs": [
    {
     "data": {
      "text/plain": [
       "(23906, 16)"
      ]
     },
     "execution_count": 12,
     "metadata": {},
     "output_type": "execute_result"
    }
   ],
   "source": [
    "df.shape"
   ]
  },
  {
   "cell_type": "code",
   "execution_count": 13,
   "id": "41112b8a",
   "metadata": {},
   "outputs": [
    {
     "data": {
      "text/plain": [
       "Car_id           0\n",
       "Date             0\n",
       "Customer Name    0\n",
       "Gender           0\n",
       "Annual Income    0\n",
       "Dealer_Name      0\n",
       "Company          0\n",
       "Model            0\n",
       "Engine           0\n",
       "Transmission     0\n",
       "Color            0\n",
       "Price ($)        0\n",
       "Dealer_No        0\n",
       "Body Style       0\n",
       "Phone            0\n",
       "Dealer_Region    0\n",
       "dtype: int64"
      ]
     },
     "execution_count": 13,
     "metadata": {},
     "output_type": "execute_result"
    }
   ],
   "source": [
    "df.isna().sum()\n",
    "#checking missing vales"
   ]
  },
  {
   "cell_type": "code",
   "execution_count": 14,
   "id": "104bc959",
   "metadata": {},
   "outputs": [
    {
     "data": {
      "text/plain": [
       "0"
      ]
     },
     "execution_count": 14,
     "metadata": {},
     "output_type": "execute_result"
    }
   ],
   "source": [
    "df.duplicated().sum()\n",
    "#checking duplicates "
   ]
  },
  {
   "cell_type": "code",
   "execution_count": 15,
   "id": "4a96ac0b",
   "metadata": {},
   "outputs": [
    {
     "data": {
      "text/plain": [
       "Car_id           object\n",
       "Date             object\n",
       "Customer Name    object\n",
       "Gender           object\n",
       "Annual Income     int64\n",
       "Dealer_Name      object\n",
       "Company          object\n",
       "Model            object\n",
       "Engine           object\n",
       "Transmission     object\n",
       "Color            object\n",
       "Price ($)         int64\n",
       "Dealer_No        object\n",
       "Body Style       object\n",
       "Phone             int64\n",
       "Dealer_Region    object\n",
       "dtype: object"
      ]
     },
     "execution_count": 15,
     "metadata": {},
     "output_type": "execute_result"
    }
   ],
   "source": [
    "df.dtypes\n",
    "#checking data types"
   ]
  },
  {
   "cell_type": "code",
   "execution_count": 16,
   "id": "f94da681",
   "metadata": {},
   "outputs": [
    {
     "name": "stdout",
     "output_type": "stream",
     "text": [
      "<class 'pandas.core.frame.DataFrame'>\n",
      "RangeIndex: 23906 entries, 0 to 23905\n",
      "Data columns (total 16 columns):\n",
      " #   Column         Non-Null Count  Dtype \n",
      "---  ------         --------------  ----- \n",
      " 0   Car_id         23906 non-null  object\n",
      " 1   Date           23906 non-null  object\n",
      " 2   Customer Name  23906 non-null  object\n",
      " 3   Gender         23906 non-null  object\n",
      " 4   Annual Income  23906 non-null  int64 \n",
      " 5   Dealer_Name    23906 non-null  object\n",
      " 6   Company        23906 non-null  object\n",
      " 7   Model          23906 non-null  object\n",
      " 8   Engine         23906 non-null  object\n",
      " 9   Transmission   23906 non-null  object\n",
      " 10  Color          23906 non-null  object\n",
      " 11  Price ($)      23906 non-null  int64 \n",
      " 12  Dealer_No      23906 non-null  object\n",
      " 13  Body Style     23906 non-null  object\n",
      " 14  Phone          23906 non-null  int64 \n",
      " 15  Dealer_Region  23906 non-null  object\n",
      "dtypes: int64(3), object(13)\n",
      "memory usage: 2.9+ MB\n"
     ]
    }
   ],
   "source": [
    "df.info()\n",
    "#Checking the number of unique values of each column"
   ]
  },
  {
   "cell_type": "code",
   "execution_count": 17,
   "id": "390043f6",
   "metadata": {},
   "outputs": [
    {
     "data": {
      "text/html": [
       "<div>\n",
       "<style scoped>\n",
       "    .dataframe tbody tr th:only-of-type {\n",
       "        vertical-align: middle;\n",
       "    }\n",
       "\n",
       "    .dataframe tbody tr th {\n",
       "        vertical-align: top;\n",
       "    }\n",
       "\n",
       "    .dataframe thead th {\n",
       "        text-align: right;\n",
       "    }\n",
       "</style>\n",
       "<table border=\"1\" class=\"dataframe\">\n",
       "  <thead>\n",
       "    <tr style=\"text-align: right;\">\n",
       "      <th></th>\n",
       "      <th>Annual Income</th>\n",
       "      <th>Price ($)</th>\n",
       "      <th>Phone</th>\n",
       "    </tr>\n",
       "  </thead>\n",
       "  <tbody>\n",
       "    <tr>\n",
       "      <th>count</th>\n",
       "      <td>2.390600e+04</td>\n",
       "      <td>23906.000000</td>\n",
       "      <td>2.390600e+04</td>\n",
       "    </tr>\n",
       "    <tr>\n",
       "      <th>mean</th>\n",
       "      <td>8.308403e+05</td>\n",
       "      <td>28090.247846</td>\n",
       "      <td>7.497741e+06</td>\n",
       "    </tr>\n",
       "    <tr>\n",
       "      <th>std</th>\n",
       "      <td>7.200064e+05</td>\n",
       "      <td>14788.687608</td>\n",
       "      <td>8.674920e+05</td>\n",
       "    </tr>\n",
       "    <tr>\n",
       "      <th>min</th>\n",
       "      <td>1.008000e+04</td>\n",
       "      <td>1200.000000</td>\n",
       "      <td>6.000101e+06</td>\n",
       "    </tr>\n",
       "    <tr>\n",
       "      <th>25%</th>\n",
       "      <td>3.860000e+05</td>\n",
       "      <td>18001.000000</td>\n",
       "      <td>6.746495e+06</td>\n",
       "    </tr>\n",
       "    <tr>\n",
       "      <th>50%</th>\n",
       "      <td>7.350000e+05</td>\n",
       "      <td>23000.000000</td>\n",
       "      <td>7.496198e+06</td>\n",
       "    </tr>\n",
       "    <tr>\n",
       "      <th>75%</th>\n",
       "      <td>1.175750e+06</td>\n",
       "      <td>34000.000000</td>\n",
       "      <td>8.248146e+06</td>\n",
       "    </tr>\n",
       "    <tr>\n",
       "      <th>max</th>\n",
       "      <td>1.120000e+07</td>\n",
       "      <td>85800.000000</td>\n",
       "      <td>8.999579e+06</td>\n",
       "    </tr>\n",
       "  </tbody>\n",
       "</table>\n",
       "</div>"
      ],
      "text/plain": [
       "       Annual Income     Price ($)         Phone\n",
       "count   2.390600e+04  23906.000000  2.390600e+04\n",
       "mean    8.308403e+05  28090.247846  7.497741e+06\n",
       "std     7.200064e+05  14788.687608  8.674920e+05\n",
       "min     1.008000e+04   1200.000000  6.000101e+06\n",
       "25%     3.860000e+05  18001.000000  6.746495e+06\n",
       "50%     7.350000e+05  23000.000000  7.496198e+06\n",
       "75%     1.175750e+06  34000.000000  8.248146e+06\n",
       "max     1.120000e+07  85800.000000  8.999579e+06"
      ]
     },
     "execution_count": 17,
     "metadata": {},
     "output_type": "execute_result"
    }
   ],
   "source": [
    "df.describe()\n",
    "#checking statistics of data set"
   ]
  },
  {
   "cell_type": "code",
   "execution_count": 20,
   "id": "07c3bf46",
   "metadata": {},
   "outputs": [
    {
     "data": {
      "text/plain": [
       "Index(['Car_id', 'Date', 'Customer Name', 'Gender', 'Annual Income',\n",
       "       'Dealer_Name', 'Company', 'Model', 'Engine', 'Transmission', 'Color',\n",
       "       'Price ($)', 'Dealer_No ', 'Body Style', 'Phone', 'Dealer_Region'],\n",
       "      dtype='object')"
      ]
     },
     "execution_count": 20,
     "metadata": {},
     "output_type": "execute_result"
    }
   ],
   "source": [
    "df.columns"
   ]
  },
  {
   "cell_type": "code",
   "execution_count": 21,
   "id": "93dbf51a",
   "metadata": {},
   "outputs": [],
   "source": [
    "df.rename(columns={\"Price ($)\":\"price\", \"Annual Income\":\"annual_income\", 'Body Style':\"body_style\", 'Customer Name':'customer_name'}, inplace =True)\n",
    "#remaning the cloumn name"
   ]
  },
  {
   "cell_type": "code",
   "execution_count": 22,
   "id": "664cdb45",
   "metadata": {},
   "outputs": [
    {
     "name": "stdout",
     "output_type": "stream",
     "text": [
      "The Minimum Price:$1200\n"
     ]
    }
   ],
   "source": [
    "#min price\n",
    "min_price = df.price.min()\n",
    "print(\"The Minimum Price:\" \"$\" +str(min_price))"
   ]
  },
  {
   "cell_type": "code",
   "execution_count": 23,
   "id": "9d4125b0",
   "metadata": {},
   "outputs": [
    {
     "name": "stdout",
     "output_type": "stream",
     "text": [
      "The Maximum Price:$85800\n"
     ]
    }
   ],
   "source": [
    "#max price\n",
    "max_price = df.price.max()\n",
    "print(\"The Maximum Price:\" \"$\" +str(max_price))"
   ]
  },
  {
   "cell_type": "code",
   "execution_count": 24,
   "id": "f37db9c3",
   "metadata": {},
   "outputs": [
    {
     "name": "stdout",
     "output_type": "stream",
     "text": [
      "The Average Price: $28090\n"
     ]
    }
   ],
   "source": [
    "#average price\n",
    "average_price = df.price.mean()\n",
    "print(f\"The Average Price: ${round(average_price)}\")"
   ]
  },
  {
   "cell_type": "code",
   "execution_count": 25,
   "id": "199672ff",
   "metadata": {},
   "outputs": [
    {
     "data": {
      "text/plain": [
       "Dealer_Name\n",
       "Rabun Used Car Sales                               37456655\n",
       "Progressive Shippers Cooperative Association No    36751460\n",
       "U-Haul CO                                          35876089\n",
       "Race Car Help                                      35288706\n",
       "Saab-Belle Dodge                                   35265865\n",
       "Scrivener Performance Engineering                  35258525\n",
       "Star Enterprises Inc                               35113206\n",
       "Tri-State Mack Inc                                 35091357\n",
       "Suburban Ford                                      34943473\n",
       "Ryder Truck Rental and Leasing                     34837906\n",
       "Name: total_revenue, dtype: int64"
      ]
     },
     "execution_count": 25,
     "metadata": {},
     "output_type": "execute_result"
    }
   ],
   "source": [
    "#What is the total revenue generated by each dealer?\n",
    "\n",
    "total_sales_by_dealer = df.groupby('Dealer_Name').agg(total_revenue = (\"price\",'sum'))\n",
    "\n",
    "total_sales_by_dealer.sort_values(by =\"total_revenue\", ascending =False).total_revenue.nlargest(10)"
   ]
  },
  {
   "cell_type": "code",
   "execution_count": 26,
   "id": "19ec58a7",
   "metadata": {},
   "outputs": [
    {
     "data": {
      "text/plain": [
       "Dealer_Name\n",
       "U-Haul CO                            28769.919006\n",
       "Classic Chevy                        28602.014446\n",
       "Rabun Used Car Sales                 28527.536177\n",
       "Iceberg Rentals                      28522.958533\n",
       "Enterprise Rent A Car                28312.580800\n",
       "Scrivener Performance Engineering    28297.371589\n",
       "Gartner Buick Hyundai Saab           28247.621019\n",
       "Saab-Belle Dodge                     28190.139888\n",
       "Capitol KIA                          28189.703822\n",
       "Race Car Help                        28163.372706\n",
       "Name: average_price, dtype: float64"
      ]
     },
     "execution_count": 26,
     "metadata": {},
     "output_type": "execute_result"
    }
   ],
   "source": [
    "#What is the average price of cars sold by each dealer?\n",
    "\n",
    "average_car_price_sold =  df.groupby('Dealer_Name').agg(average_price = (\"price\",'mean'))\n",
    "average_car_price_sold.sort_values('average_price', ascending =False).average_price.nlargest(10)"
   ]
  },
  {
   "cell_type": "code",
   "execution_count": 27,
   "id": "df32f94a",
   "metadata": {},
   "outputs": [
    {
     "data": {
      "text/plain": [
       "Dealer_Name\n",
       "U-Haul CO                            28769.919006\n",
       "Classic Chevy                        28602.014446\n",
       "Rabun Used Car Sales                 28527.536177\n",
       "Iceberg Rentals                      28522.958533\n",
       "Enterprise Rent A Car                28312.580800\n",
       "Scrivener Performance Engineering    28297.371589\n",
       "Gartner Buick Hyundai Saab           28247.621019\n",
       "Saab-Belle Dodge                     28190.139888\n",
       "Capitol KIA                          28189.703822\n",
       "Race Car Help                        28163.372706\n",
       "Name: average_price, dtype: float64"
      ]
     },
     "execution_count": 27,
     "metadata": {},
     "output_type": "execute_result"
    }
   ],
   "source": [
    "#What is the average price of cars sold by each dealer?\n",
    "\n",
    "average_car_price_sold =  df.groupby('Dealer_Name').agg(average_price = (\"price\",'mean'))\n",
    "average_car_price_sold.average_price.nlargest(10)"
   ]
  },
  {
   "cell_type": "code",
   "execution_count": 28,
   "id": "3f6bf9dd",
   "metadata": {},
   "outputs": [
    {
     "data": {
      "text/plain": [
       "Male      18798\n",
       "Female     5108\n",
       "Name: Gender, dtype: int64"
      ]
     },
     "execution_count": 28,
     "metadata": {},
     "output_type": "execute_result"
    }
   ],
   "source": [
    "# What is the gender distribution of customers?\n",
    "genders = df.Gender.value_counts()\n",
    "genders"
   ]
  },
  {
   "cell_type": "code",
   "execution_count": 29,
   "id": "9ea9cf90",
   "metadata": {},
   "outputs": [
    {
     "data": {
      "text/plain": [
       "Austin        4135\n",
       "Janesville    3821\n",
       "Scottsdale    3433\n",
       "Pasco         3131\n",
       "Aurora        3130\n",
       "Middletown    3128\n",
       "Greenville    3128\n",
       "Name: Dealer_Region, dtype: int64"
      ]
     },
     "execution_count": 29,
     "metadata": {},
     "output_type": "execute_result"
    }
   ],
   "source": [
    "#What is the distribution of customers based on the dealer regions?\n",
    "dealer_region_dist =  df.Dealer_Region.value_counts()\n",
    "dealer_region_dist"
   ]
  },
  {
   "cell_type": "code",
   "execution_count": 32,
   "id": "a16b1ffb",
   "metadata": {},
   "outputs": [
    {
     "name": "stdout",
     "output_type": "stream",
     "text": [
      "The average income overall: 830840.2851167071\n"
     ]
    }
   ],
   "source": [
    "#What is the average annual income of customers?\n",
    "# Example using pandas method chaining\n",
    "avg_annual_income = df.annual_income.round().mean()\n",
    "print(\"The average income overall:\", avg_annual_income)\n"
   ]
  },
  {
   "cell_type": "code",
   "execution_count": 33,
   "id": "f5d69569",
   "metadata": {},
   "outputs": [
    {
     "name": "stdout",
     "output_type": "stream",
     "text": [
      "Top Model: Diamante      418\n",
      "Silhouette    411\n",
      "Prizm         411\n",
      "Passat        391\n",
      "Ram Pickup    383\n",
      "Name: Model, dtype: int64\n"
     ]
    }
   ],
   "source": [
    "#What are the top 5 most popular car models?\n",
    "\n",
    "top_5_model = df.Model.value_counts().nlargest(5)\n",
    "print(\"Top Model:\",top_5_model)"
   ]
  },
  {
   "cell_type": "code",
   "execution_count": 38,
   "id": "9b623141",
   "metadata": {},
   "outputs": [
    {
     "data": {
      "text/plain": [
       "Chevrolet    1819\n",
       "Name: Company, dtype: int64"
      ]
     },
     "execution_count": 38,
     "metadata": {},
     "output_type": "execute_result"
    }
   ],
   "source": [
    "#Which company has the highest sales volume?\n",
    "\n",
    "highest_sales_company = df.Company.value_counts().nlargest(1)\n",
    "highest_sales_company\n"
   ]
  },
  {
   "cell_type": "code",
   "execution_count": 39,
   "id": "da1f4d72",
   "metadata": {},
   "outputs": [
    {
     "data": {
      "text/plain": [
       "Company\n",
       "Cadillac      40972.0\n",
       "Saab          36516.0\n",
       "Lexus         34025.0\n",
       "Buick         33634.0\n",
       "Oldsmobile    31894.0\n",
       "Lincoln       31407.0\n",
       "Saturn        31093.0\n",
       "Toyota        29513.0\n",
       "Plymouth      29405.0\n",
       "Pontiac       29358.0\n",
       "Name: average_price_car, dtype: float64"
      ]
     },
     "execution_count": 39,
     "metadata": {},
     "output_type": "execute_result"
    }
   ],
   "source": [
    "#What is the average price of cars from each company?\n",
    "\n",
    "avg_price_car_comp =  df.groupby('Company').agg(average_price_car = ('price','mean')).average_price_car.nlargest(10)\n",
    "avg_price_car_comp.round()\n"
   ]
  },
  {
   "cell_type": "code",
   "execution_count": 40,
   "id": "b404e89b",
   "metadata": {},
   "outputs": [
    {
     "data": {
      "text/html": [
       "<div>\n",
       "<style scoped>\n",
       "    .dataframe tbody tr th:only-of-type {\n",
       "        vertical-align: middle;\n",
       "    }\n",
       "\n",
       "    .dataframe tbody tr th {\n",
       "        vertical-align: top;\n",
       "    }\n",
       "\n",
       "    .dataframe thead th {\n",
       "        text-align: right;\n",
       "    }\n",
       "</style>\n",
       "<table border=\"1\" class=\"dataframe\">\n",
       "  <thead>\n",
       "    <tr style=\"text-align: right;\">\n",
       "      <th></th>\n",
       "      <th>total_sales</th>\n",
       "    </tr>\n",
       "    <tr>\n",
       "      <th>Dealer_Region</th>\n",
       "      <th></th>\n",
       "    </tr>\n",
       "  </thead>\n",
       "  <tbody>\n",
       "    <tr>\n",
       "      <th>Austin</th>\n",
       "      <td>117192531</td>\n",
       "    </tr>\n",
       "    <tr>\n",
       "      <th>Janesville</th>\n",
       "      <td>106351234</td>\n",
       "    </tr>\n",
       "    <tr>\n",
       "      <th>Scottsdale</th>\n",
       "      <td>95969374</td>\n",
       "    </tr>\n",
       "    <tr>\n",
       "      <th>Aurora</th>\n",
       "      <td>88687382</td>\n",
       "    </tr>\n",
       "    <tr>\n",
       "      <th>Greenville</th>\n",
       "      <td>88149602</td>\n",
       "    </tr>\n",
       "    <tr>\n",
       "      <th>Pasco</th>\n",
       "      <td>88040714</td>\n",
       "    </tr>\n",
       "    <tr>\n",
       "      <th>Middletown</th>\n",
       "      <td>87134628</td>\n",
       "    </tr>\n",
       "  </tbody>\n",
       "</table>\n",
       "</div>"
      ],
      "text/plain": [
       "               total_sales\n",
       "Dealer_Region             \n",
       "Austin           117192531\n",
       "Janesville       106351234\n",
       "Scottsdale        95969374\n",
       "Aurora            88687382\n",
       "Greenville        88149602\n",
       "Pasco             88040714\n",
       "Middletown        87134628"
      ]
     },
     "execution_count": 40,
     "metadata": {},
     "output_type": "execute_result"
    }
   ],
   "source": [
    "#Which dealer region has the highest sales revenue\n",
    "\n",
    "dealer_region_high_sales = df.groupby(\"Dealer_Region\").agg(total_sales = ('price','sum'))\n",
    "dealer_region_high_sales.sort_values(by = 'total_sales', ascending= False)\n",
    "     "
   ]
  },
  {
   "cell_type": "code",
   "execution_count": 41,
   "id": "a4a1fb01",
   "metadata": {},
   "outputs": [
    {
     "data": {
      "text/html": [
       "<div>\n",
       "<style scoped>\n",
       "    .dataframe tbody tr th:only-of-type {\n",
       "        vertical-align: middle;\n",
       "    }\n",
       "\n",
       "    .dataframe tbody tr th {\n",
       "        vertical-align: top;\n",
       "    }\n",
       "\n",
       "    .dataframe thead th {\n",
       "        text-align: right;\n",
       "    }\n",
       "</style>\n",
       "<table border=\"1\" class=\"dataframe\">\n",
       "  <thead>\n",
       "    <tr style=\"text-align: right;\">\n",
       "      <th></th>\n",
       "      <th>total_sales</th>\n",
       "      <th>average_sales</th>\n",
       "      <th>number_of_sales</th>\n",
       "    </tr>\n",
       "    <tr>\n",
       "      <th>Dealer_Region</th>\n",
       "      <th></th>\n",
       "      <th></th>\n",
       "      <th></th>\n",
       "    </tr>\n",
       "  </thead>\n",
       "  <tbody>\n",
       "    <tr>\n",
       "      <th>Aurora</th>\n",
       "      <td>88687382</td>\n",
       "      <td>28334.626837</td>\n",
       "      <td>3130</td>\n",
       "    </tr>\n",
       "    <tr>\n",
       "      <th>Austin</th>\n",
       "      <td>117192531</td>\n",
       "      <td>28341.603628</td>\n",
       "      <td>4135</td>\n",
       "    </tr>\n",
       "    <tr>\n",
       "      <th>Greenville</th>\n",
       "      <td>88149602</td>\n",
       "      <td>28180.819054</td>\n",
       "      <td>3128</td>\n",
       "    </tr>\n",
       "    <tr>\n",
       "      <th>Janesville</th>\n",
       "      <td>106351234</td>\n",
       "      <td>27833.350955</td>\n",
       "      <td>3821</td>\n",
       "    </tr>\n",
       "    <tr>\n",
       "      <th>Middletown</th>\n",
       "      <td>87134628</td>\n",
       "      <td>27856.338875</td>\n",
       "      <td>3128</td>\n",
       "    </tr>\n",
       "    <tr>\n",
       "      <th>Pasco</th>\n",
       "      <td>88040714</td>\n",
       "      <td>28119.039923</td>\n",
       "      <td>3131</td>\n",
       "    </tr>\n",
       "    <tr>\n",
       "      <th>Scottsdale</th>\n",
       "      <td>95969374</td>\n",
       "      <td>27954.958928</td>\n",
       "      <td>3433</td>\n",
       "    </tr>\n",
       "  </tbody>\n",
       "</table>\n",
       "</div>"
      ],
      "text/plain": [
       "               total_sales  average_sales  number_of_sales\n",
       "Dealer_Region                                             \n",
       "Aurora            88687382   28334.626837             3130\n",
       "Austin           117192531   28341.603628             4135\n",
       "Greenville        88149602   28180.819054             3128\n",
       "Janesville       106351234   27833.350955             3821\n",
       "Middletown        87134628   27856.338875             3128\n",
       "Pasco             88040714   28119.039923             3131\n",
       "Scottsdale        95969374   27954.958928             3433"
      ]
     },
     "execution_count": 41,
     "metadata": {},
     "output_type": "execute_result"
    }
   ],
   "source": [
    "#What is the sales performance comparison between different dealer regions\n",
    "\n",
    "sales_performance_com =  df.groupby('Dealer_Region').agg(total_sales = ('price','sum'), average_sales = ('price','mean'), number_of_sales = (\"Car_id\",'count'))\n",
    "sales_performance_com"
   ]
  },
  {
   "cell_type": "code",
   "execution_count": 42,
   "id": "c32ca5eb",
   "metadata": {},
   "outputs": [
    {
     "data": {
      "text/html": [
       "<div>\n",
       "<style scoped>\n",
       "    .dataframe tbody tr th:only-of-type {\n",
       "        vertical-align: middle;\n",
       "    }\n",
       "\n",
       "    .dataframe tbody tr th {\n",
       "        vertical-align: top;\n",
       "    }\n",
       "\n",
       "    .dataframe thead th {\n",
       "        text-align: right;\n",
       "    }\n",
       "</style>\n",
       "<table border=\"1\" class=\"dataframe\">\n",
       "  <thead>\n",
       "    <tr style=\"text-align: right;\">\n",
       "      <th></th>\n",
       "      <th>Car_id</th>\n",
       "      <th>Date</th>\n",
       "      <th>customer_name</th>\n",
       "      <th>Gender</th>\n",
       "      <th>annual_income</th>\n",
       "      <th>Dealer_Name</th>\n",
       "      <th>Company</th>\n",
       "      <th>Model</th>\n",
       "      <th>Engine</th>\n",
       "      <th>Transmission</th>\n",
       "      <th>Color</th>\n",
       "      <th>price</th>\n",
       "      <th>Dealer_No</th>\n",
       "      <th>body_style</th>\n",
       "      <th>Phone</th>\n",
       "      <th>Dealer_Region</th>\n",
       "    </tr>\n",
       "  </thead>\n",
       "  <tbody>\n",
       "    <tr>\n",
       "      <th>0</th>\n",
       "      <td>C_CND_000001</td>\n",
       "      <td>1/2/2022</td>\n",
       "      <td>Geraldine</td>\n",
       "      <td>Male</td>\n",
       "      <td>13500</td>\n",
       "      <td>Buddy Storbeck's Diesel Service Inc</td>\n",
       "      <td>Ford</td>\n",
       "      <td>Expedition</td>\n",
       "      <td>DoubleÂ Overhead Camshaft</td>\n",
       "      <td>Auto</td>\n",
       "      <td>Black</td>\n",
       "      <td>26000</td>\n",
       "      <td>06457-3834</td>\n",
       "      <td>SUV</td>\n",
       "      <td>8264678</td>\n",
       "      <td>Middletown</td>\n",
       "    </tr>\n",
       "    <tr>\n",
       "      <th>1</th>\n",
       "      <td>C_CND_000002</td>\n",
       "      <td>1/2/2022</td>\n",
       "      <td>Gia</td>\n",
       "      <td>Male</td>\n",
       "      <td>1480000</td>\n",
       "      <td>C &amp; M Motors Inc</td>\n",
       "      <td>Dodge</td>\n",
       "      <td>Durango</td>\n",
       "      <td>DoubleÂ Overhead Camshaft</td>\n",
       "      <td>Auto</td>\n",
       "      <td>Black</td>\n",
       "      <td>19000</td>\n",
       "      <td>60504-7114</td>\n",
       "      <td>SUV</td>\n",
       "      <td>6848189</td>\n",
       "      <td>Aurora</td>\n",
       "    </tr>\n",
       "    <tr>\n",
       "      <th>2</th>\n",
       "      <td>C_CND_000003</td>\n",
       "      <td>1/2/2022</td>\n",
       "      <td>Gianna</td>\n",
       "      <td>Male</td>\n",
       "      <td>1035000</td>\n",
       "      <td>Capitol KIA</td>\n",
       "      <td>Cadillac</td>\n",
       "      <td>Eldorado</td>\n",
       "      <td>Overhead Camshaft</td>\n",
       "      <td>Manual</td>\n",
       "      <td>Red</td>\n",
       "      <td>31500</td>\n",
       "      <td>38701-8047</td>\n",
       "      <td>Passenger</td>\n",
       "      <td>7298798</td>\n",
       "      <td>Greenville</td>\n",
       "    </tr>\n",
       "    <tr>\n",
       "      <th>3</th>\n",
       "      <td>C_CND_000004</td>\n",
       "      <td>1/2/2022</td>\n",
       "      <td>Giselle</td>\n",
       "      <td>Male</td>\n",
       "      <td>13500</td>\n",
       "      <td>Chrysler of Tri-Cities</td>\n",
       "      <td>Toyota</td>\n",
       "      <td>Celica</td>\n",
       "      <td>Overhead Camshaft</td>\n",
       "      <td>Manual</td>\n",
       "      <td>Pale White</td>\n",
       "      <td>14000</td>\n",
       "      <td>99301-3882</td>\n",
       "      <td>SUV</td>\n",
       "      <td>6257557</td>\n",
       "      <td>Pasco</td>\n",
       "    </tr>\n",
       "    <tr>\n",
       "      <th>4</th>\n",
       "      <td>C_CND_000005</td>\n",
       "      <td>1/2/2022</td>\n",
       "      <td>Grace</td>\n",
       "      <td>Male</td>\n",
       "      <td>1465000</td>\n",
       "      <td>Chrysler Plymouth</td>\n",
       "      <td>Acura</td>\n",
       "      <td>TL</td>\n",
       "      <td>DoubleÂ Overhead Camshaft</td>\n",
       "      <td>Auto</td>\n",
       "      <td>Red</td>\n",
       "      <td>24500</td>\n",
       "      <td>53546-9427</td>\n",
       "      <td>Hatchback</td>\n",
       "      <td>7081483</td>\n",
       "      <td>Janesville</td>\n",
       "    </tr>\n",
       "  </tbody>\n",
       "</table>\n",
       "</div>"
      ],
      "text/plain": [
       "         Car_id      Date customer_name Gender  annual_income  \\\n",
       "0  C_CND_000001  1/2/2022     Geraldine   Male          13500   \n",
       "1  C_CND_000002  1/2/2022           Gia   Male        1480000   \n",
       "2  C_CND_000003  1/2/2022        Gianna   Male        1035000   \n",
       "3  C_CND_000004  1/2/2022       Giselle   Male          13500   \n",
       "4  C_CND_000005  1/2/2022         Grace   Male        1465000   \n",
       "\n",
       "                           Dealer_Name   Company       Model  \\\n",
       "0  Buddy Storbeck's Diesel Service Inc      Ford  Expedition   \n",
       "1                     C & M Motors Inc     Dodge     Durango   \n",
       "2                          Capitol KIA  Cadillac    Eldorado   \n",
       "3               Chrysler of Tri-Cities    Toyota      Celica   \n",
       "4                    Chrysler Plymouth     Acura          TL   \n",
       "\n",
       "                      Engine Transmission       Color  price  Dealer_No   \\\n",
       "0  DoubleÂ Overhead Camshaft         Auto       Black  26000  06457-3834   \n",
       "1  DoubleÂ Overhead Camshaft         Auto       Black  19000  60504-7114   \n",
       "2          Overhead Camshaft       Manual         Red  31500  38701-8047   \n",
       "3          Overhead Camshaft       Manual  Pale White  14000  99301-3882   \n",
       "4  DoubleÂ Overhead Camshaft         Auto         Red  24500  53546-9427   \n",
       "\n",
       "  body_style    Phone Dealer_Region  \n",
       "0        SUV  8264678    Middletown  \n",
       "1        SUV  6848189        Aurora  \n",
       "2  Passenger  7298798    Greenville  \n",
       "3        SUV  6257557         Pasco  \n",
       "4  Hatchback  7081483    Janesville  "
      ]
     },
     "execution_count": 42,
     "metadata": {},
     "output_type": "execute_result"
    }
   ],
   "source": [
    "df.head()"
   ]
  },
  {
   "cell_type": "code",
   "execution_count": 43,
   "id": "a556b0d9",
   "metadata": {},
   "outputs": [
    {
     "data": {
      "text/html": [
       "<div>\n",
       "<style scoped>\n",
       "    .dataframe tbody tr th:only-of-type {\n",
       "        vertical-align: middle;\n",
       "    }\n",
       "\n",
       "    .dataframe tbody tr th {\n",
       "        vertical-align: top;\n",
       "    }\n",
       "\n",
       "    .dataframe thead th {\n",
       "        text-align: right;\n",
       "    }\n",
       "</style>\n",
       "<table border=\"1\" class=\"dataframe\">\n",
       "  <thead>\n",
       "    <tr style=\"text-align: right;\">\n",
       "      <th></th>\n",
       "      <th>average_price</th>\n",
       "    </tr>\n",
       "    <tr>\n",
       "      <th>Dealer_Region</th>\n",
       "      <th></th>\n",
       "    </tr>\n",
       "  </thead>\n",
       "  <tbody>\n",
       "    <tr>\n",
       "      <th>Aurora</th>\n",
       "      <td>28335.0</td>\n",
       "    </tr>\n",
       "    <tr>\n",
       "      <th>Austin</th>\n",
       "      <td>28342.0</td>\n",
       "    </tr>\n",
       "    <tr>\n",
       "      <th>Greenville</th>\n",
       "      <td>28181.0</td>\n",
       "    </tr>\n",
       "    <tr>\n",
       "      <th>Janesville</th>\n",
       "      <td>27833.0</td>\n",
       "    </tr>\n",
       "    <tr>\n",
       "      <th>Middletown</th>\n",
       "      <td>27856.0</td>\n",
       "    </tr>\n",
       "    <tr>\n",
       "      <th>Pasco</th>\n",
       "      <td>28119.0</td>\n",
       "    </tr>\n",
       "    <tr>\n",
       "      <th>Scottsdale</th>\n",
       "      <td>27955.0</td>\n",
       "    </tr>\n",
       "  </tbody>\n",
       "</table>\n",
       "</div>"
      ],
      "text/plain": [
       "               average_price\n",
       "Dealer_Region               \n",
       "Aurora               28335.0\n",
       "Austin               28342.0\n",
       "Greenville           28181.0\n",
       "Janesville           27833.0\n",
       "Middletown           27856.0\n",
       "Pasco                28119.0\n",
       "Scottsdale           27955.0"
      ]
     },
     "execution_count": 43,
     "metadata": {},
     "output_type": "execute_result"
    }
   ],
   "source": [
    "#How does the average car price vary across different regions\n",
    "\n",
    "avg_car_price_region = df.groupby('Dealer_Region').agg(average_price =  ('price','mean'))\n",
    "avg_car_price_region.round()"
   ]
  },
  {
   "cell_type": "code",
   "execution_count": 44,
   "id": "b2e7e87a",
   "metadata": {},
   "outputs": [
    {
     "data": {
      "text/plain": [
       "DoubleÂ Overhead Camshaft    12571\n",
       "Overhead Camshaft            11335\n",
       "Name: Engine, dtype: int64"
      ]
     },
     "execution_count": 44,
     "metadata": {},
     "output_type": "execute_result"
    }
   ],
   "source": [
    "#What is the distribution of engine types among sold cars?\n",
    "distribution_engine = df.Engine.value_counts()\n",
    "distribution_engine"
   ]
  },
  {
   "cell_type": "code",
   "execution_count": 45,
   "id": "00543be2",
   "metadata": {},
   "outputs": [
    {
     "name": "stdout",
     "output_type": "stream",
     "text": [
      "Auto      12571\n",
      "Manual    11335\n",
      "Name: Transmission, dtype: int64\n",
      "\n"
     ]
    },
    {
     "data": {
      "text/plain": [
       "Auto      52.585125\n",
       "Manual    47.414875\n",
       "Name: Transmission, dtype: float64"
      ]
     },
     "execution_count": 45,
     "metadata": {},
     "output_type": "execute_result"
    }
   ],
   "source": [
    "#What percentage of cars sold have automatic vs. manual transmission?\n",
    "\n",
    "automatic_manual = df.Transmission.value_counts()\n",
    "print(automatic_manual)\n",
    "total = automatic_manual.sum()\n",
    "print(\"\")\n",
    "find_percentage = (automatic_manual / total)*100\n",
    "find_percentage"
   ]
  },
  {
   "cell_type": "code",
   "execution_count": 46,
   "id": "0f7dee66",
   "metadata": {},
   "outputs": [
    {
     "data": {
      "text/plain": [
       "Pale White    11256\n",
       "Black          7857\n",
       "Red            4793\n",
       "Name: Color, dtype: int64"
      ]
     },
     "execution_count": 46,
     "metadata": {},
     "output_type": "execute_result"
    }
   ],
   "source": [
    "#What are the top 3 most popular car colors\n",
    "popular_car_color = df.Color.value_counts().nlargest(3)\n",
    "popular_car_color"
   ]
  },
  {
   "cell_type": "code",
   "execution_count": 47,
   "id": "c02a6a20",
   "metadata": {},
   "outputs": [
    {
     "data": {
      "text/plain": [
       "SUV          6374\n",
       "Hatchback    6128\n",
       "Sedan        4488\n",
       "Passenger    3945\n",
       "Hardtop      2971\n",
       "Name: body_style, dtype: int64"
      ]
     },
     "execution_count": 47,
     "metadata": {},
     "output_type": "execute_result"
    }
   ],
   "source": [
    "#What is the distribution of body styles among sold cars?\n",
    "body_style_dist = df.body_style.value_counts()\n",
    "body_style_dist"
   ]
  },
  {
   "cell_type": "code",
   "execution_count": 48,
   "id": "c3492a63",
   "metadata": {},
   "outputs": [
    {
     "data": {
      "text/html": [
       "<div>\n",
       "<style scoped>\n",
       "    .dataframe tbody tr th:only-of-type {\n",
       "        vertical-align: middle;\n",
       "    }\n",
       "\n",
       "    .dataframe tbody tr th {\n",
       "        vertical-align: top;\n",
       "    }\n",
       "\n",
       "    .dataframe thead th {\n",
       "        text-align: right;\n",
       "    }\n",
       "</style>\n",
       "<table border=\"1\" class=\"dataframe\">\n",
       "  <thead>\n",
       "    <tr style=\"text-align: right;\">\n",
       "      <th></th>\n",
       "      <th>Car_id</th>\n",
       "      <th>Date</th>\n",
       "      <th>customer_name</th>\n",
       "      <th>Gender</th>\n",
       "      <th>annual_income</th>\n",
       "      <th>Dealer_Name</th>\n",
       "      <th>Company</th>\n",
       "      <th>Model</th>\n",
       "      <th>Engine</th>\n",
       "      <th>Transmission</th>\n",
       "      <th>Color</th>\n",
       "      <th>price</th>\n",
       "      <th>Dealer_No</th>\n",
       "      <th>body_style</th>\n",
       "      <th>Phone</th>\n",
       "      <th>Dealer_Region</th>\n",
       "    </tr>\n",
       "  </thead>\n",
       "  <tbody>\n",
       "    <tr>\n",
       "      <th>0</th>\n",
       "      <td>C_CND_000001</td>\n",
       "      <td>1/2/2022</td>\n",
       "      <td>Geraldine</td>\n",
       "      <td>Male</td>\n",
       "      <td>13500</td>\n",
       "      <td>Buddy Storbeck's Diesel Service Inc</td>\n",
       "      <td>Ford</td>\n",
       "      <td>Expedition</td>\n",
       "      <td>DoubleÂ Overhead Camshaft</td>\n",
       "      <td>Auto</td>\n",
       "      <td>Black</td>\n",
       "      <td>26000</td>\n",
       "      <td>06457-3834</td>\n",
       "      <td>SUV</td>\n",
       "      <td>8264678</td>\n",
       "      <td>Middletown</td>\n",
       "    </tr>\n",
       "    <tr>\n",
       "      <th>1</th>\n",
       "      <td>C_CND_000002</td>\n",
       "      <td>1/2/2022</td>\n",
       "      <td>Gia</td>\n",
       "      <td>Male</td>\n",
       "      <td>1480000</td>\n",
       "      <td>C &amp; M Motors Inc</td>\n",
       "      <td>Dodge</td>\n",
       "      <td>Durango</td>\n",
       "      <td>DoubleÂ Overhead Camshaft</td>\n",
       "      <td>Auto</td>\n",
       "      <td>Black</td>\n",
       "      <td>19000</td>\n",
       "      <td>60504-7114</td>\n",
       "      <td>SUV</td>\n",
       "      <td>6848189</td>\n",
       "      <td>Aurora</td>\n",
       "    </tr>\n",
       "    <tr>\n",
       "      <th>2</th>\n",
       "      <td>C_CND_000003</td>\n",
       "      <td>1/2/2022</td>\n",
       "      <td>Gianna</td>\n",
       "      <td>Male</td>\n",
       "      <td>1035000</td>\n",
       "      <td>Capitol KIA</td>\n",
       "      <td>Cadillac</td>\n",
       "      <td>Eldorado</td>\n",
       "      <td>Overhead Camshaft</td>\n",
       "      <td>Manual</td>\n",
       "      <td>Red</td>\n",
       "      <td>31500</td>\n",
       "      <td>38701-8047</td>\n",
       "      <td>Passenger</td>\n",
       "      <td>7298798</td>\n",
       "      <td>Greenville</td>\n",
       "    </tr>\n",
       "    <tr>\n",
       "      <th>3</th>\n",
       "      <td>C_CND_000004</td>\n",
       "      <td>1/2/2022</td>\n",
       "      <td>Giselle</td>\n",
       "      <td>Male</td>\n",
       "      <td>13500</td>\n",
       "      <td>Chrysler of Tri-Cities</td>\n",
       "      <td>Toyota</td>\n",
       "      <td>Celica</td>\n",
       "      <td>Overhead Camshaft</td>\n",
       "      <td>Manual</td>\n",
       "      <td>Pale White</td>\n",
       "      <td>14000</td>\n",
       "      <td>99301-3882</td>\n",
       "      <td>SUV</td>\n",
       "      <td>6257557</td>\n",
       "      <td>Pasco</td>\n",
       "    </tr>\n",
       "    <tr>\n",
       "      <th>4</th>\n",
       "      <td>C_CND_000005</td>\n",
       "      <td>1/2/2022</td>\n",
       "      <td>Grace</td>\n",
       "      <td>Male</td>\n",
       "      <td>1465000</td>\n",
       "      <td>Chrysler Plymouth</td>\n",
       "      <td>Acura</td>\n",
       "      <td>TL</td>\n",
       "      <td>DoubleÂ Overhead Camshaft</td>\n",
       "      <td>Auto</td>\n",
       "      <td>Red</td>\n",
       "      <td>24500</td>\n",
       "      <td>53546-9427</td>\n",
       "      <td>Hatchback</td>\n",
       "      <td>7081483</td>\n",
       "      <td>Janesville</td>\n",
       "    </tr>\n",
       "  </tbody>\n",
       "</table>\n",
       "</div>"
      ],
      "text/plain": [
       "         Car_id      Date customer_name Gender  annual_income  \\\n",
       "0  C_CND_000001  1/2/2022     Geraldine   Male          13500   \n",
       "1  C_CND_000002  1/2/2022           Gia   Male        1480000   \n",
       "2  C_CND_000003  1/2/2022        Gianna   Male        1035000   \n",
       "3  C_CND_000004  1/2/2022       Giselle   Male          13500   \n",
       "4  C_CND_000005  1/2/2022         Grace   Male        1465000   \n",
       "\n",
       "                           Dealer_Name   Company       Model  \\\n",
       "0  Buddy Storbeck's Diesel Service Inc      Ford  Expedition   \n",
       "1                     C & M Motors Inc     Dodge     Durango   \n",
       "2                          Capitol KIA  Cadillac    Eldorado   \n",
       "3               Chrysler of Tri-Cities    Toyota      Celica   \n",
       "4                    Chrysler Plymouth     Acura          TL   \n",
       "\n",
       "                      Engine Transmission       Color  price  Dealer_No   \\\n",
       "0  DoubleÂ Overhead Camshaft         Auto       Black  26000  06457-3834   \n",
       "1  DoubleÂ Overhead Camshaft         Auto       Black  19000  60504-7114   \n",
       "2          Overhead Camshaft       Manual         Red  31500  38701-8047   \n",
       "3          Overhead Camshaft       Manual  Pale White  14000  99301-3882   \n",
       "4  DoubleÂ Overhead Camshaft         Auto         Red  24500  53546-9427   \n",
       "\n",
       "  body_style    Phone Dealer_Region  \n",
       "0        SUV  8264678    Middletown  \n",
       "1        SUV  6848189        Aurora  \n",
       "2  Passenger  7298798    Greenville  \n",
       "3        SUV  6257557         Pasco  \n",
       "4  Hatchback  7081483    Janesville  "
      ]
     },
     "execution_count": 48,
     "metadata": {},
     "output_type": "execute_result"
    }
   ],
   "source": [
    "df.head()"
   ]
  },
  {
   "cell_type": "code",
   "execution_count": 49,
   "id": "e2b8a55e",
   "metadata": {},
   "outputs": [
    {
     "data": {
      "text/html": [
       "<div>\n",
       "<style scoped>\n",
       "    .dataframe tbody tr th:only-of-type {\n",
       "        vertical-align: middle;\n",
       "    }\n",
       "\n",
       "    .dataframe tbody tr th {\n",
       "        vertical-align: top;\n",
       "    }\n",
       "\n",
       "    .dataframe thead th {\n",
       "        text-align: right;\n",
       "    }\n",
       "</style>\n",
       "<table border=\"1\" class=\"dataframe\">\n",
       "  <thead>\n",
       "    <tr style=\"text-align: right;\">\n",
       "      <th></th>\n",
       "      <th>total_sales</th>\n",
       "    </tr>\n",
       "    <tr>\n",
       "      <th>Dealer_Name</th>\n",
       "      <th></th>\n",
       "    </tr>\n",
       "  </thead>\n",
       "  <tbody>\n",
       "    <tr>\n",
       "      <th>Rabun Used Car Sales</th>\n",
       "      <td>37456655</td>\n",
       "    </tr>\n",
       "    <tr>\n",
       "      <th>Progressive Shippers Cooperative Association No</th>\n",
       "      <td>36751460</td>\n",
       "    </tr>\n",
       "    <tr>\n",
       "      <th>U-Haul CO</th>\n",
       "      <td>35876089</td>\n",
       "    </tr>\n",
       "    <tr>\n",
       "      <th>Race Car Help</th>\n",
       "      <td>35288706</td>\n",
       "    </tr>\n",
       "    <tr>\n",
       "      <th>Saab-Belle Dodge</th>\n",
       "      <td>35265865</td>\n",
       "    </tr>\n",
       "    <tr>\n",
       "      <th>Scrivener Performance Engineering</th>\n",
       "      <td>35258525</td>\n",
       "    </tr>\n",
       "    <tr>\n",
       "      <th>Star Enterprises Inc</th>\n",
       "      <td>35113206</td>\n",
       "    </tr>\n",
       "    <tr>\n",
       "      <th>Tri-State Mack Inc</th>\n",
       "      <td>35091357</td>\n",
       "    </tr>\n",
       "    <tr>\n",
       "      <th>Suburban Ford</th>\n",
       "      <td>34943473</td>\n",
       "    </tr>\n",
       "    <tr>\n",
       "      <th>Ryder Truck Rental and Leasing</th>\n",
       "      <td>34837906</td>\n",
       "    </tr>\n",
       "    <tr>\n",
       "      <th>Iceberg Rentals</th>\n",
       "      <td>17883895</td>\n",
       "    </tr>\n",
       "    <tr>\n",
       "      <th>Classic Chevy</th>\n",
       "      <td>17819055</td>\n",
       "    </tr>\n",
       "    <tr>\n",
       "      <th>Gartner Buick Hyundai Saab</th>\n",
       "      <td>17739506</td>\n",
       "    </tr>\n",
       "    <tr>\n",
       "      <th>Capitol KIA</th>\n",
       "      <td>17703134</td>\n",
       "    </tr>\n",
       "    <tr>\n",
       "      <th>Enterprise Rent A Car</th>\n",
       "      <td>17695363</td>\n",
       "    </tr>\n",
       "    <tr>\n",
       "      <th>Pars Auto Sales</th>\n",
       "      <td>17648228</td>\n",
       "    </tr>\n",
       "    <tr>\n",
       "      <th>Nebo Chevrolet</th>\n",
       "      <td>17609357</td>\n",
       "    </tr>\n",
       "    <tr>\n",
       "      <th>Chrysler of Tri-Cities</th>\n",
       "      <td>17605055</td>\n",
       "    </tr>\n",
       "    <tr>\n",
       "      <th>C &amp; M Motors Inc</th>\n",
       "      <td>17569847</td>\n",
       "    </tr>\n",
       "    <tr>\n",
       "      <th>New Castle Ford Lincoln Mercury</th>\n",
       "      <td>17528426</td>\n",
       "    </tr>\n",
       "    <tr>\n",
       "      <th>Hatfield Volkswagen</th>\n",
       "      <td>17519985</td>\n",
       "    </tr>\n",
       "    <tr>\n",
       "      <th>Motor Vehicle Branch Office</th>\n",
       "      <td>17500919</td>\n",
       "    </tr>\n",
       "    <tr>\n",
       "      <th>Diehl Motor CO Inc</th>\n",
       "      <td>17468212</td>\n",
       "    </tr>\n",
       "    <tr>\n",
       "      <th>Clay Johnson Auto Sales</th>\n",
       "      <td>17440649</td>\n",
       "    </tr>\n",
       "    <tr>\n",
       "      <th>McKinney Dodge Chrysler Jeep</th>\n",
       "      <td>17413297</td>\n",
       "    </tr>\n",
       "    <tr>\n",
       "      <th>Chrysler Plymouth</th>\n",
       "      <td>17222204</td>\n",
       "    </tr>\n",
       "    <tr>\n",
       "      <th>Pitre Buick-Pontiac-Gmc of Scottsdale</th>\n",
       "      <td>17209868</td>\n",
       "    </tr>\n",
       "    <tr>\n",
       "      <th>Buddy Storbeck's Diesel Service Inc</th>\n",
       "      <td>17065223</td>\n",
       "    </tr>\n",
       "  </tbody>\n",
       "</table>\n",
       "</div>"
      ],
      "text/plain": [
       "                                                 total_sales\n",
       "Dealer_Name                                                 \n",
       "Rabun Used Car Sales                                37456655\n",
       "Progressive Shippers Cooperative Association No     36751460\n",
       "U-Haul CO                                           35876089\n",
       "Race Car Help                                       35288706\n",
       "Saab-Belle Dodge                                    35265865\n",
       "Scrivener Performance Engineering                   35258525\n",
       "Star Enterprises Inc                                35113206\n",
       "Tri-State Mack Inc                                  35091357\n",
       "Suburban Ford                                       34943473\n",
       "Ryder Truck Rental and Leasing                      34837906\n",
       "Iceberg Rentals                                     17883895\n",
       "Classic Chevy                                       17819055\n",
       "Gartner Buick Hyundai Saab                          17739506\n",
       "Capitol KIA                                         17703134\n",
       "Enterprise Rent A Car                               17695363\n",
       "Pars Auto Sales                                     17648228\n",
       "Nebo Chevrolet                                      17609357\n",
       "Chrysler of Tri-Cities                              17605055\n",
       "C & M Motors Inc                                    17569847\n",
       "New Castle Ford Lincoln Mercury                     17528426\n",
       "Hatfield Volkswagen                                 17519985\n",
       "Motor Vehicle Branch Office                         17500919\n",
       "Diehl Motor CO Inc                                  17468212\n",
       "Clay Johnson Auto Sales                             17440649\n",
       "McKinney Dodge Chrysler Jeep                        17413297\n",
       "Chrysler Plymouth                                   17222204\n",
       "Pitre Buick-Pontiac-Gmc of Scottsdale               17209868\n",
       "Buddy Storbeck's Diesel Service Inc                 17065223"
      ]
     },
     "execution_count": 49,
     "metadata": {},
     "output_type": "execute_result"
    }
   ],
   "source": [
    "#What is the total number of sales made by each dealer?\n",
    "each_dealer = df.groupby(\"Dealer_Name\").agg(total_sales = (\"price\", 'sum'))\n",
    "each_dealer.sort_values(by =\"total_sales\", ascending=False)"
   ]
  },
  {
   "cell_type": "code",
   "execution_count": 50,
   "id": "7205e822",
   "metadata": {},
   "outputs": [
    {
     "data": {
      "text/html": [
       "<div>\n",
       "<style scoped>\n",
       "    .dataframe tbody tr th:only-of-type {\n",
       "        vertical-align: middle;\n",
       "    }\n",
       "\n",
       "    .dataframe tbody tr th {\n",
       "        vertical-align: top;\n",
       "    }\n",
       "\n",
       "    .dataframe thead th {\n",
       "        text-align: right;\n",
       "    }\n",
       "</style>\n",
       "<table border=\"1\" class=\"dataframe\">\n",
       "  <thead>\n",
       "    <tr style=\"text-align: right;\">\n",
       "      <th></th>\n",
       "      <th>avg_Sales</th>\n",
       "    </tr>\n",
       "    <tr>\n",
       "      <th>Dealer_Name</th>\n",
       "      <th></th>\n",
       "    </tr>\n",
       "  </thead>\n",
       "  <tbody>\n",
       "    <tr>\n",
       "      <th>U-Haul CO</th>\n",
       "      <td>28769.919006</td>\n",
       "    </tr>\n",
       "    <tr>\n",
       "      <th>Classic Chevy</th>\n",
       "      <td>28602.014446</td>\n",
       "    </tr>\n",
       "    <tr>\n",
       "      <th>Rabun Used Car Sales</th>\n",
       "      <td>28527.536177</td>\n",
       "    </tr>\n",
       "    <tr>\n",
       "      <th>Iceberg Rentals</th>\n",
       "      <td>28522.958533</td>\n",
       "    </tr>\n",
       "    <tr>\n",
       "      <th>Enterprise Rent A Car</th>\n",
       "      <td>28312.580800</td>\n",
       "    </tr>\n",
       "    <tr>\n",
       "      <th>Scrivener Performance Engineering</th>\n",
       "      <td>28297.371589</td>\n",
       "    </tr>\n",
       "    <tr>\n",
       "      <th>Gartner Buick Hyundai Saab</th>\n",
       "      <td>28247.621019</td>\n",
       "    </tr>\n",
       "    <tr>\n",
       "      <th>Saab-Belle Dodge</th>\n",
       "      <td>28190.139888</td>\n",
       "    </tr>\n",
       "    <tr>\n",
       "      <th>Capitol KIA</th>\n",
       "      <td>28189.703822</td>\n",
       "    </tr>\n",
       "    <tr>\n",
       "      <th>Race Car Help</th>\n",
       "      <td>28163.372706</td>\n",
       "    </tr>\n",
       "    <tr>\n",
       "      <th>Chrysler of Tri-Cities</th>\n",
       "      <td>28123.091054</td>\n",
       "    </tr>\n",
       "    <tr>\n",
       "      <th>Star Enterprises Inc</th>\n",
       "      <td>28113.055244</td>\n",
       "    </tr>\n",
       "    <tr>\n",
       "      <th>Suburban Ford</th>\n",
       "      <td>28112.206758</td>\n",
       "    </tr>\n",
       "    <tr>\n",
       "      <th>C &amp; M Motors Inc</th>\n",
       "      <td>28111.755200</td>\n",
       "    </tr>\n",
       "    <tr>\n",
       "      <th>Tri-State Mack Inc</th>\n",
       "      <td>28095.562050</td>\n",
       "    </tr>\n",
       "    <tr>\n",
       "      <th>Pars Auto Sales</th>\n",
       "      <td>28013.060317</td>\n",
       "    </tr>\n",
       "    <tr>\n",
       "      <th>Diehl Motor CO Inc</th>\n",
       "      <td>27993.929487</td>\n",
       "    </tr>\n",
       "    <tr>\n",
       "      <th>Motor Vehicle Branch Office</th>\n",
       "      <td>27956.739617</td>\n",
       "    </tr>\n",
       "    <tr>\n",
       "      <th>Ryder Truck Rental and Leasing</th>\n",
       "      <td>27914.988782</td>\n",
       "    </tr>\n",
       "    <tr>\n",
       "      <th>Progressive Shippers Cooperative Association No</th>\n",
       "      <td>27884.264036</td>\n",
       "    </tr>\n",
       "    <tr>\n",
       "      <th>New Castle Ford Lincoln Mercury</th>\n",
       "      <td>27867.131955</td>\n",
       "    </tr>\n",
       "    <tr>\n",
       "      <th>Hatfield Volkswagen</th>\n",
       "      <td>27853.712242</td>\n",
       "    </tr>\n",
       "    <tr>\n",
       "      <th>Nebo Chevrolet</th>\n",
       "      <td>27818.889415</td>\n",
       "    </tr>\n",
       "    <tr>\n",
       "      <th>Clay Johnson Auto Sales</th>\n",
       "      <td>27816.027113</td>\n",
       "    </tr>\n",
       "    <tr>\n",
       "      <th>McKinney Dodge Chrysler Jeep</th>\n",
       "      <td>27684.096979</td>\n",
       "    </tr>\n",
       "    <tr>\n",
       "      <th>Chrysler Plymouth</th>\n",
       "      <td>27555.526400</td>\n",
       "    </tr>\n",
       "    <tr>\n",
       "      <th>Pitre Buick-Pontiac-Gmc of Scottsdale</th>\n",
       "      <td>27404.248408</td>\n",
       "    </tr>\n",
       "    <tr>\n",
       "      <th>Buddy Storbeck's Diesel Service Inc</th>\n",
       "      <td>27217.261563</td>\n",
       "    </tr>\n",
       "  </tbody>\n",
       "</table>\n",
       "</div>"
      ],
      "text/plain": [
       "                                                    avg_Sales\n",
       "Dealer_Name                                                  \n",
       "U-Haul CO                                        28769.919006\n",
       "Classic Chevy                                    28602.014446\n",
       "Rabun Used Car Sales                             28527.536177\n",
       "Iceberg Rentals                                  28522.958533\n",
       "Enterprise Rent A Car                            28312.580800\n",
       "Scrivener Performance Engineering                28297.371589\n",
       "Gartner Buick Hyundai Saab                       28247.621019\n",
       "Saab-Belle Dodge                                 28190.139888\n",
       "Capitol KIA                                      28189.703822\n",
       "Race Car Help                                    28163.372706\n",
       "Chrysler of Tri-Cities                           28123.091054\n",
       "Star Enterprises Inc                             28113.055244\n",
       "Suburban Ford                                    28112.206758\n",
       "C & M Motors Inc                                 28111.755200\n",
       "Tri-State Mack Inc                               28095.562050\n",
       "Pars Auto Sales                                  28013.060317\n",
       "Diehl Motor CO Inc                               27993.929487\n",
       "Motor Vehicle Branch Office                      27956.739617\n",
       "Ryder Truck Rental and Leasing                   27914.988782\n",
       "Progressive Shippers Cooperative Association No  27884.264036\n",
       "New Castle Ford Lincoln Mercury                  27867.131955\n",
       "Hatfield Volkswagen                              27853.712242\n",
       "Nebo Chevrolet                                   27818.889415\n",
       "Clay Johnson Auto Sales                          27816.027113\n",
       "McKinney Dodge Chrysler Jeep                     27684.096979\n",
       "Chrysler Plymouth                                27555.526400\n",
       "Pitre Buick-Pontiac-Gmc of Scottsdale            27404.248408\n",
       "Buddy Storbeck's Diesel Service Inc              27217.261563"
      ]
     },
     "execution_count": 50,
     "metadata": {},
     "output_type": "execute_result"
    }
   ],
   "source": [
    "#Which dealer has the highest average sales price\n",
    "each_dealer_avg= df.groupby(\"Dealer_Name\").agg(avg_Sales = (\"price\", 'mean'))\n",
    "each_dealer_avg.sort_values(by =\"avg_Sales\", ascending=False)"
   ]
  },
  {
   "cell_type": "code",
   "execution_count": 52,
   "id": "f1660368",
   "metadata": {},
   "outputs": [],
   "source": [
    "import pandas as pd\n",
    "import matplotlib.pyplot as plt\n",
    "import seaborn as sns\n"
   ]
  },
  {
   "cell_type": "code",
   "execution_count": 54,
   "id": "d5398779",
   "metadata": {},
   "outputs": [
    {
     "data": {
      "image/png": "[encoded data removed]",
      "text/plain": [
       "<Figure size 800x500 with 1 Axes>"
      ]
     },
     "metadata": {},
     "output_type": "display_data"
    }
   ],
   "source": [
    "plt.figure(figsize=(8,5))\n",
    "sns.histplot(df['price'], bins=8, kde=True, color='green')\n",
    "plt.title('Distribution of Car Prices')\n",
    "plt.xlabel('Price ($)')\n",
    "plt.ylabel('Count')\n",
    "plt.show()\n",
    "#distribution of car prices"
   ]
  },
  {
   "cell_type": "code",
   "execution_count": 55,
   "id": "c746f85d",
   "metadata": {},
   "outputs": [],
   "source": [
    "sales_by_region = df.groupby('Dealer_Region')['price'].sum().reset_index()\n"
   ]
  },
  {
   "cell_type": "code",
   "execution_count": 57,
   "id": "44fb5926",
   "metadata": {},
   "outputs": [
    {
     "data": {
      "image/png": "[encoded data removed]",
      "text/plain": [
       "<Figure size 1000x600 with 1 Axes>"
      ]
     },
     "metadata": {},
     "output_type": "display_data"
    }
   ],
   "source": [
    "plt.figure(figsize=(10,6))\n",
    "plt.bar(sales_by_region['Dealer_Region'], sales_by_region['price'], color='orange')\n",
    "plt.title('Total Sales by Dealer Region')\n",
    "plt.xlabel('Dealer Region')\n",
    "plt.ylabel('Total Sales ($)')\n",
    "plt.xticks(rotation=45)\n",
    "plt.tight_layout()\n",
    "plt.show()\n",
    "#Total Sales by Dealer Region\n"
   ]
  },
  {
   "cell_type": "code",
   "execution_count": 60,
   "id": "0908e80e",
   "metadata": {},
   "outputs": [
    {
     "data": {
      "image/png": "[encoded data removed]",
      "text/plain": [
       "<Figure size 800x500 with 1 Axes>"
      ]
     },
     "metadata": {},
     "output_type": "display_data"
    }
   ],
   "source": [
    "plt.figure(figsize=(8,5))\n",
    "sns.boxplot(x=df['price'], color='lightgreen')\n",
    "plt.title('Boxplot of Car Prices')\n",
    "plt.xlabel('Price ($)')\n",
    "plt.show()\n",
    "#To check distribution and outliers"
   ]
  },
  {
   "cell_type": "code",
   "execution_count": 61,
   "id": "ca470e9e",
   "metadata": {},
   "outputs": [],
   "source": [
    "df['Date'] = pd.to_datetime(df['Date'])\n",
    "sales_over_time = df.groupby('Date')['price'].sum().reset_index()\n"
   ]
  },
  {
   "cell_type": "code",
   "execution_count": 64,
   "id": "9a78b148",
   "metadata": {},
   "outputs": [
    {
     "data": {
      "image/png": "[encoded data removed]",
      "text/plain": [
       "<Figure size 1000x500 with 1 Axes>"
      ]
     },
     "metadata": {},
     "output_type": "display_data"
    }
   ],
   "source": [
    "plt.figure(figsize=(10,5))\n",
    "sns.lineplot(x='Date', y='price', data=sales_over_time)\n",
    "plt.title('Sales Over Time')\n",
    "plt.xlabel('Date')\n",
    "plt.ylabel('Total Sales ($)')\n",
    "plt.xticks(rotation=45)\n",
    "plt.tight_layout()\n",
    "plt.show()\n",
    "\n",
    "#trend of sales over time\n"
   ]
  },
  {
   "cell_type": "code",
   "execution_count": 65,
   "id": "880662ba",
   "metadata": {},
   "outputs": [
    {
     "data": {
      "image/png": "[encoded data removed]",
      "text/plain": [
       "<Figure size 700x700 with 1 Axes>"
      ]
     },
     "metadata": {},
     "output_type": "display_data"
    }
   ],
   "source": [
    "region_counts = df['Dealer_Region'].value_counts()\n",
    "plt.figure(figsize=(7,7))\n",
    "plt.pie(region_counts, labels=region_counts.index, autopct='%1.1f%%', startangle=140)\n",
    "plt.title('Car Sales Distribution by Dealer Region')\n",
    "plt.axis('equal')\n",
    "plt.show()\n",
    "#car sales distribution by dealer region"
   ]
  },
  {
   "cell_type": "code",
   "execution_count": 67,
   "id": "c3d05898",
   "metadata": {},
   "outputs": [
    {
     "data": {
      "image/png": "[encoded data removed]",
      "text/plain": [
       "<Figure size 800x500 with 1 Axes>"
      ]
     },
     "metadata": {},
     "output_type": "display_data"
    }
   ],
   "source": [
    "plt.figure(figsize=(8,5))\n",
    "plt.scatter(df['annual_income'], df['price'], color='purple', alpha=0.6)\n",
    "plt.title('Price vs Annual Income')\n",
    "plt.xlabel('Annual Income ($)')\n",
    "plt.ylabel('Price ($)')\n",
    "plt.grid(True, linestyle='--', alpha=0.5)\n",
    "plt.show()\n",
    "#price vs annual income"
   ]
  },
  {
   "cell_type": "code",
   "execution_count": null,
   "id": "e5f7a69a",
   "metadata": {},
   "outputs": [],
   "source": []
  }
 ],
 "metadata": {
  "kernelspec": {
   "display_name": "Python 3 (ipykernel)",
   "language": "python",
   "name": "python3"
  },
  "language_info": {
   "codemirror_mode": {
    "name": "ipython",
    "version": 3
   },
   "file_extension": ".py",
   "mimetype": "text/x-python",
   "name": "python",
   "nbconvert_exporter": "python",
   "pygments_lexer": "ipython3",
   "version": "3.9.13"
  }
 },
 "nbformat": 4,
 "nbformat_minor": 5
}
